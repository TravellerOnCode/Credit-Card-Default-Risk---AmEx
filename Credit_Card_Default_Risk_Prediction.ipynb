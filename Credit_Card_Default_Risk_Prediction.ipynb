{
  "cells": [
    {
      "cell_type": "markdown",
      "metadata": {
        "id": "view-in-github",
        "colab_type": "text"
      },
      "source": [
        "<a href=\"https://colab.research.google.com/github/TravellerOnCode/Credit-Card-Default-Risk---AmEx/blob/main/Credit_Card_Default_Risk_Prediction.ipynb\" target=\"_parent\"><img src=\"https://colab.research.google.com/assets/colab-badge.svg\" alt=\"Open In Colab\"/></a>"
      ]
    },
    {
      "cell_type": "markdown",
      "metadata": {
        "id": "sWdu3Ay7UjRc"
      },
      "source": [
        "# Problem Statement\n",
        "\n",
        "The problem statement can be accessed from [here](https://www.hackerearth.com/challenges/competitive/amexpert-code-lab/machine-learning/credit-card-default-risk-5-95cbc85f/).\n",
        "\n",
        "\n",
        "**References**\n",
        "\n",
        "\n",
        "*   https://www.analyticsvidhya.com/blog/2021/10/handling-missing-value/\n",
        "*   https://arxiv.org/pdf/1711.00837.pdf\n",
        "*   https://youtu.be/oJvjRnuoqQM\n",
        "\n"
      ]
    },
    {
      "cell_type": "markdown",
      "metadata": {
        "id": "Ip_t84KIan22"
      },
      "source": [
        "# Imports"
      ]
    },
    {
      "cell_type": "code",
      "execution_count": null,
      "metadata": {
        "colab": {
          "base_uri": "https://localhost:8080/"
        },
        "id": "-glW4OzlrHhd",
        "outputId": "9436c173-2985-4cff-804c-24945aceddd5"
      },
      "outputs": [
        {
          "name": "stdout",
          "output_type": "stream",
          "text": [
            "Requirement already satisfied: kmeans_smote in /usr/local/lib/python3.7/dist-packages (0.1.2)\n",
            "Requirement already satisfied: numpy<1.16,>=1.13 in /usr/local/lib/python3.7/dist-packages (from kmeans_smote) (1.15.4)\n",
            "Requirement already satisfied: imbalanced-learn<0.5,>=0.4.0 in /usr/local/lib/python3.7/dist-packages (from kmeans_smote) (0.4.3)\n",
            "Requirement already satisfied: scikit-learn<0.21,>=0.19.0 in /usr/local/lib/python3.7/dist-packages (from kmeans_smote) (0.20.4)\n",
            "Requirement already satisfied: scipy>=0.13.3 in /usr/local/lib/python3.7/dist-packages (from imbalanced-learn<0.5,>=0.4.0->kmeans_smote) (1.4.1)\n"
          ]
        }
      ],
      "source": [
        "pip install kmeans_smote;"
      ]
    },
    {
      "cell_type": "code",
      "execution_count": null,
      "metadata": {
        "id": "y19G2J1kUk_f"
      },
      "outputs": [],
      "source": [
        "import requests, zipfile, io\n",
        "import pandas as pd\n",
        "pd.options.mode.chained_assignment = None"
      ]
    },
    {
      "cell_type": "code",
      "execution_count": null,
      "metadata": {
        "id": "S6ZATLY7U59F"
      },
      "outputs": [],
      "source": [
        "from sklearn.model_selection import train_test_split\n",
        "from sklearn.linear_model import LogisticRegression\n",
        "from sklearn.ensemble import RandomForestClassifier\n",
        "from sklearn.preprocessing import LabelEncoder\n",
        "\n",
        "from sklearn.metrics import confusion_matrix, accuracy_score, classification_report\n"
      ]
    },
    {
      "cell_type": "markdown",
      "metadata": {
        "id": "Hu9HZXEpaiP3"
      },
      "source": [
        "# Load the Dataset"
      ]
    },
    {
      "cell_type": "code",
      "execution_count": null,
      "metadata": {
        "colab": {
          "base_uri": "https://localhost:8080/",
          "height": 277
        },
        "id": "Ioy8dULDaaHJ",
        "outputId": "028cee3e-22ed-4a21-8cb9-6748fb904b96"
      },
      "outputs": [
        {
          "name": "stdout",
          "output_type": "stream",
          "text": [
            "\n",
            "Training Dataset :  (45528, 19)\n"
          ]
        },
        {
          "data": {
            "text/html": [
              "\n",
              "  <div id=\"df-e1269186-bf6a-474d-8791-0d62a411e13e\">\n",
              "    <div class=\"colab-df-container\">\n",
              "      <div>\n",
              "<style scoped>\n",
              "    .dataframe tbody tr th:only-of-type {\n",
              "        vertical-align: middle;\n",
              "    }\n",
              "\n",
              "    .dataframe tbody tr th {\n",
              "        vertical-align: top;\n",
              "    }\n",
              "\n",
              "    .dataframe thead th {\n",
              "        text-align: right;\n",
              "    }\n",
              "</style>\n",
              "<table border=\"1\" class=\"dataframe\">\n",
              "  <thead>\n",
              "    <tr style=\"text-align: right;\">\n",
              "      <th></th>\n",
              "      <th>customer_id</th>\n",
              "      <th>name</th>\n",
              "      <th>age</th>\n",
              "      <th>gender</th>\n",
              "      <th>owns_car</th>\n",
              "      <th>owns_house</th>\n",
              "      <th>no_of_children</th>\n",
              "      <th>net_yearly_income</th>\n",
              "      <th>no_of_days_employed</th>\n",
              "      <th>occupation_type</th>\n",
              "      <th>total_family_members</th>\n",
              "      <th>migrant_worker</th>\n",
              "      <th>yearly_debt_payments</th>\n",
              "      <th>credit_limit</th>\n",
              "      <th>credit_limit_used(%)</th>\n",
              "      <th>credit_score</th>\n",
              "      <th>prev_defaults</th>\n",
              "      <th>default_in_last_6months</th>\n",
              "      <th>credit_card_default</th>\n",
              "    </tr>\n",
              "  </thead>\n",
              "  <tbody>\n",
              "    <tr>\n",
              "      <th>0</th>\n",
              "      <td>CST_115179</td>\n",
              "      <td>ita Bose</td>\n",
              "      <td>46</td>\n",
              "      <td>F</td>\n",
              "      <td>N</td>\n",
              "      <td>Y</td>\n",
              "      <td>0.0</td>\n",
              "      <td>107934.04</td>\n",
              "      <td>612.0</td>\n",
              "      <td>Unknown</td>\n",
              "      <td>1.0</td>\n",
              "      <td>1.0</td>\n",
              "      <td>33070.28</td>\n",
              "      <td>18690.93</td>\n",
              "      <td>73</td>\n",
              "      <td>544.0</td>\n",
              "      <td>2</td>\n",
              "      <td>1</td>\n",
              "      <td>1</td>\n",
              "    </tr>\n",
              "    <tr>\n",
              "      <th>1</th>\n",
              "      <td>CST_121920</td>\n",
              "      <td>Alper Jonathan</td>\n",
              "      <td>29</td>\n",
              "      <td>M</td>\n",
              "      <td>N</td>\n",
              "      <td>Y</td>\n",
              "      <td>0.0</td>\n",
              "      <td>109862.62</td>\n",
              "      <td>2771.0</td>\n",
              "      <td>Laborers</td>\n",
              "      <td>2.0</td>\n",
              "      <td>0.0</td>\n",
              "      <td>15329.53</td>\n",
              "      <td>37745.19</td>\n",
              "      <td>52</td>\n",
              "      <td>857.0</td>\n",
              "      <td>0</td>\n",
              "      <td>0</td>\n",
              "      <td>0</td>\n",
              "    </tr>\n",
              "    <tr>\n",
              "      <th>2</th>\n",
              "      <td>CST_109330</td>\n",
              "      <td>Umesh Desai</td>\n",
              "      <td>37</td>\n",
              "      <td>M</td>\n",
              "      <td>N</td>\n",
              "      <td>Y</td>\n",
              "      <td>0.0</td>\n",
              "      <td>230153.17</td>\n",
              "      <td>204.0</td>\n",
              "      <td>Laborers</td>\n",
              "      <td>2.0</td>\n",
              "      <td>0.0</td>\n",
              "      <td>48416.60</td>\n",
              "      <td>41598.36</td>\n",
              "      <td>43</td>\n",
              "      <td>650.0</td>\n",
              "      <td>0</td>\n",
              "      <td>0</td>\n",
              "      <td>0</td>\n",
              "    </tr>\n",
              "  </tbody>\n",
              "</table>\n",
              "</div>\n",
              "      <button class=\"colab-df-convert\" onclick=\"convertToInteractive('df-e1269186-bf6a-474d-8791-0d62a411e13e')\"\n",
              "              title=\"Convert this dataframe to an interactive table.\"\n",
              "              style=\"display:none;\">\n",
              "        \n",
              "  <svg xmlns=\"http://www.w3.org/2000/svg\" height=\"24px\"viewBox=\"0 0 24 24\"\n",
              "       width=\"24px\">\n",
              "    <path d=\"M0 0h24v24H0V0z\" fill=\"none\"/>\n",
              "    <path d=\"M18.56 5.44l.94 2.06.94-2.06 2.06-.94-2.06-.94-.94-2.06-.94 2.06-2.06.94zm-11 1L8.5 8.5l.94-2.06 2.06-.94-2.06-.94L8.5 2.5l-.94 2.06-2.06.94zm10 10l.94 2.06.94-2.06 2.06-.94-2.06-.94-.94-2.06-.94 2.06-2.06.94z\"/><path d=\"M17.41 7.96l-1.37-1.37c-.4-.4-.92-.59-1.43-.59-.52 0-1.04.2-1.43.59L10.3 9.45l-7.72 7.72c-.78.78-.78 2.05 0 2.83L4 21.41c.39.39.9.59 1.41.59.51 0 1.02-.2 1.41-.59l7.78-7.78 2.81-2.81c.8-.78.8-2.07 0-2.86zM5.41 20L4 18.59l7.72-7.72 1.47 1.35L5.41 20z\"/>\n",
              "  </svg>\n",
              "      </button>\n",
              "      \n",
              "  <style>\n",
              "    .colab-df-container {\n",
              "      display:flex;\n",
              "      flex-wrap:wrap;\n",
              "      gap: 12px;\n",
              "    }\n",
              "\n",
              "    .colab-df-convert {\n",
              "      background-color: #E8F0FE;\n",
              "      border: none;\n",
              "      border-radius: 50%;\n",
              "      cursor: pointer;\n",
              "      display: none;\n",
              "      fill: #1967D2;\n",
              "      height: 32px;\n",
              "      padding: 0 0 0 0;\n",
              "      width: 32px;\n",
              "    }\n",
              "\n",
              "    .colab-df-convert:hover {\n",
              "      background-color: #E2EBFA;\n",
              "      box-shadow: 0px 1px 2px rgba(60, 64, 67, 0.3), 0px 1px 3px 1px rgba(60, 64, 67, 0.15);\n",
              "      fill: #174EA6;\n",
              "    }\n",
              "\n",
              "    [theme=dark] .colab-df-convert {\n",
              "      background-color: #3B4455;\n",
              "      fill: #D2E3FC;\n",
              "    }\n",
              "\n",
              "    [theme=dark] .colab-df-convert:hover {\n",
              "      background-color: #434B5C;\n",
              "      box-shadow: 0px 1px 3px 1px rgba(0, 0, 0, 0.15);\n",
              "      filter: drop-shadow(0px 1px 2px rgba(0, 0, 0, 0.3));\n",
              "      fill: #FFFFFF;\n",
              "    }\n",
              "  </style>\n",
              "\n",
              "      <script>\n",
              "        const buttonEl =\n",
              "          document.querySelector('#df-e1269186-bf6a-474d-8791-0d62a411e13e button.colab-df-convert');\n",
              "        buttonEl.style.display =\n",
              "          google.colab.kernel.accessAllowed ? 'block' : 'none';\n",
              "\n",
              "        async function convertToInteractive(key) {\n",
              "          const element = document.querySelector('#df-e1269186-bf6a-474d-8791-0d62a411e13e');\n",
              "          const dataTable =\n",
              "            await google.colab.kernel.invokeFunction('convertToInteractive',\n",
              "                                                     [key], {});\n",
              "          if (!dataTable) return;\n",
              "\n",
              "          const docLinkHtml = 'Like what you see? Visit the ' +\n",
              "            '<a target=\"_blank\" href=https://colab.research.google.com/notebooks/data_table.ipynb>data table notebook</a>'\n",
              "            + ' to learn more about interactive tables.';\n",
              "          element.innerHTML = '';\n",
              "          dataTable['output_type'] = 'display_data';\n",
              "          await google.colab.output.renderOutput(dataTable, element);\n",
              "          const docLink = document.createElement('div');\n",
              "          docLink.innerHTML = docLinkHtml;\n",
              "          element.appendChild(docLink);\n",
              "        }\n",
              "      </script>\n",
              "    </div>\n",
              "  </div>\n",
              "  "
            ],
            "text/plain": [
              "  customer_id            name  ...  default_in_last_6months credit_card_default\n",
              "0  CST_115179        ita Bose  ...                        1                   1\n",
              "1  CST_121920  Alper Jonathan  ...                        0                   0\n",
              "2  CST_109330     Umesh Desai  ...                        0                   0\n",
              "\n",
              "[3 rows x 19 columns]"
            ]
          },
          "execution_count": 4,
          "metadata": {},
          "output_type": "execute_result"
        }
      ],
      "source": [
        "#the csv is stored in a github repo\n",
        "r_train = requests.get('https://github.com/TravellerOnCode/Credit-Card-Default-Risk---AmEx/blob/main/Data/train.csv?raw=true')\n",
        "r_test = requests.get('https://github.com/TravellerOnCode/Credit-Card-Default-Risk---AmEx/blob/main/Data/test.csv?raw=true') \n",
        "\n",
        "df_train = pd.read_csv(io.BytesIO(r_train.content))\n",
        "df_test = pd.read_csv(io.BytesIO(r_test.content))\n",
        "\n",
        "print('\\nTraining Dataset : ',df_train.shape)\n",
        "df_train.head(3)"
      ]
    },
    {
      "cell_type": "code",
      "execution_count": null,
      "metadata": {
        "colab": {
          "base_uri": "https://localhost:8080/",
          "height": 242
        },
        "id": "ct1BHeB3aLhB",
        "outputId": "c4d3099a-02b8-4dad-d053-9837f7f3c112"
      },
      "outputs": [
        {
          "name": "stdout",
          "output_type": "stream",
          "text": [
            "\n",
            "Test Dataset :  (11383, 18)\n"
          ]
        },
        {
          "data": {
            "text/html": [
              "\n",
              "  <div id=\"df-4de11ad2-ecca-4601-97a8-ac5b066de931\">\n",
              "    <div class=\"colab-df-container\">\n",
              "      <div>\n",
              "<style scoped>\n",
              "    .dataframe tbody tr th:only-of-type {\n",
              "        vertical-align: middle;\n",
              "    }\n",
              "\n",
              "    .dataframe tbody tr th {\n",
              "        vertical-align: top;\n",
              "    }\n",
              "\n",
              "    .dataframe thead th {\n",
              "        text-align: right;\n",
              "    }\n",
              "</style>\n",
              "<table border=\"1\" class=\"dataframe\">\n",
              "  <thead>\n",
              "    <tr style=\"text-align: right;\">\n",
              "      <th></th>\n",
              "      <th>customer_id</th>\n",
              "      <th>name</th>\n",
              "      <th>age</th>\n",
              "      <th>gender</th>\n",
              "      <th>owns_car</th>\n",
              "      <th>owns_house</th>\n",
              "      <th>no_of_children</th>\n",
              "      <th>net_yearly_income</th>\n",
              "      <th>no_of_days_employed</th>\n",
              "      <th>occupation_type</th>\n",
              "      <th>total_family_members</th>\n",
              "      <th>migrant_worker</th>\n",
              "      <th>yearly_debt_payments</th>\n",
              "      <th>credit_limit</th>\n",
              "      <th>credit_limit_used(%)</th>\n",
              "      <th>credit_score</th>\n",
              "      <th>prev_defaults</th>\n",
              "      <th>default_in_last_6months</th>\n",
              "    </tr>\n",
              "  </thead>\n",
              "  <tbody>\n",
              "    <tr>\n",
              "      <th>0</th>\n",
              "      <td>CST_142525</td>\n",
              "      <td>Siva</td>\n",
              "      <td>52</td>\n",
              "      <td>F</td>\n",
              "      <td>Y</td>\n",
              "      <td>N</td>\n",
              "      <td>0.0</td>\n",
              "      <td>232640.53</td>\n",
              "      <td>998.0</td>\n",
              "      <td>Unknown</td>\n",
              "      <td>2.0</td>\n",
              "      <td>0.0</td>\n",
              "      <td>14406.73</td>\n",
              "      <td>26524.40</td>\n",
              "      <td>4</td>\n",
              "      <td>779.0</td>\n",
              "      <td>0</td>\n",
              "      <td>0</td>\n",
              "    </tr>\n",
              "    <tr>\n",
              "      <th>1</th>\n",
              "      <td>CST_129215</td>\n",
              "      <td>Scott</td>\n",
              "      <td>48</td>\n",
              "      <td>F</td>\n",
              "      <td>N</td>\n",
              "      <td>N</td>\n",
              "      <td>1.0</td>\n",
              "      <td>284396.79</td>\n",
              "      <td>1338.0</td>\n",
              "      <td>Unknown</td>\n",
              "      <td>3.0</td>\n",
              "      <td>0.0</td>\n",
              "      <td>57479.99</td>\n",
              "      <td>68998.72</td>\n",
              "      <td>70</td>\n",
              "      <td>806.0</td>\n",
              "      <td>0</td>\n",
              "      <td>0</td>\n",
              "    </tr>\n",
              "    <tr>\n",
              "      <th>2</th>\n",
              "      <td>CST_138443</td>\n",
              "      <td>Victoria</td>\n",
              "      <td>50</td>\n",
              "      <td>F</td>\n",
              "      <td>N</td>\n",
              "      <td>N</td>\n",
              "      <td>1.0</td>\n",
              "      <td>149419.28</td>\n",
              "      <td>1210.0</td>\n",
              "      <td>Unknown</td>\n",
              "      <td>3.0</td>\n",
              "      <td>0.0</td>\n",
              "      <td>21611.01</td>\n",
              "      <td>25187.80</td>\n",
              "      <td>71</td>\n",
              "      <td>528.0</td>\n",
              "      <td>2</td>\n",
              "      <td>0</td>\n",
              "    </tr>\n",
              "  </tbody>\n",
              "</table>\n",
              "</div>\n",
              "      <button class=\"colab-df-convert\" onclick=\"convertToInteractive('df-4de11ad2-ecca-4601-97a8-ac5b066de931')\"\n",
              "              title=\"Convert this dataframe to an interactive table.\"\n",
              "              style=\"display:none;\">\n",
              "        \n",
              "  <svg xmlns=\"http://www.w3.org/2000/svg\" height=\"24px\"viewBox=\"0 0 24 24\"\n",
              "       width=\"24px\">\n",
              "    <path d=\"M0 0h24v24H0V0z\" fill=\"none\"/>\n",
              "    <path d=\"M18.56 5.44l.94 2.06.94-2.06 2.06-.94-2.06-.94-.94-2.06-.94 2.06-2.06.94zm-11 1L8.5 8.5l.94-2.06 2.06-.94-2.06-.94L8.5 2.5l-.94 2.06-2.06.94zm10 10l.94 2.06.94-2.06 2.06-.94-2.06-.94-.94-2.06-.94 2.06-2.06.94z\"/><path d=\"M17.41 7.96l-1.37-1.37c-.4-.4-.92-.59-1.43-.59-.52 0-1.04.2-1.43.59L10.3 9.45l-7.72 7.72c-.78.78-.78 2.05 0 2.83L4 21.41c.39.39.9.59 1.41.59.51 0 1.02-.2 1.41-.59l7.78-7.78 2.81-2.81c.8-.78.8-2.07 0-2.86zM5.41 20L4 18.59l7.72-7.72 1.47 1.35L5.41 20z\"/>\n",
              "  </svg>\n",
              "      </button>\n",
              "      \n",
              "  <style>\n",
              "    .colab-df-container {\n",
              "      display:flex;\n",
              "      flex-wrap:wrap;\n",
              "      gap: 12px;\n",
              "    }\n",
              "\n",
              "    .colab-df-convert {\n",
              "      background-color: #E8F0FE;\n",
              "      border: none;\n",
              "      border-radius: 50%;\n",
              "      cursor: pointer;\n",
              "      display: none;\n",
              "      fill: #1967D2;\n",
              "      height: 32px;\n",
              "      padding: 0 0 0 0;\n",
              "      width: 32px;\n",
              "    }\n",
              "\n",
              "    .colab-df-convert:hover {\n",
              "      background-color: #E2EBFA;\n",
              "      box-shadow: 0px 1px 2px rgba(60, 64, 67, 0.3), 0px 1px 3px 1px rgba(60, 64, 67, 0.15);\n",
              "      fill: #174EA6;\n",
              "    }\n",
              "\n",
              "    [theme=dark] .colab-df-convert {\n",
              "      background-color: #3B4455;\n",
              "      fill: #D2E3FC;\n",
              "    }\n",
              "\n",
              "    [theme=dark] .colab-df-convert:hover {\n",
              "      background-color: #434B5C;\n",
              "      box-shadow: 0px 1px 3px 1px rgba(0, 0, 0, 0.15);\n",
              "      filter: drop-shadow(0px 1px 2px rgba(0, 0, 0, 0.3));\n",
              "      fill: #FFFFFF;\n",
              "    }\n",
              "  </style>\n",
              "\n",
              "      <script>\n",
              "        const buttonEl =\n",
              "          document.querySelector('#df-4de11ad2-ecca-4601-97a8-ac5b066de931 button.colab-df-convert');\n",
              "        buttonEl.style.display =\n",
              "          google.colab.kernel.accessAllowed ? 'block' : 'none';\n",
              "\n",
              "        async function convertToInteractive(key) {\n",
              "          const element = document.querySelector('#df-4de11ad2-ecca-4601-97a8-ac5b066de931');\n",
              "          const dataTable =\n",
              "            await google.colab.kernel.invokeFunction('convertToInteractive',\n",
              "                                                     [key], {});\n",
              "          if (!dataTable) return;\n",
              "\n",
              "          const docLinkHtml = 'Like what you see? Visit the ' +\n",
              "            '<a target=\"_blank\" href=https://colab.research.google.com/notebooks/data_table.ipynb>data table notebook</a>'\n",
              "            + ' to learn more about interactive tables.';\n",
              "          element.innerHTML = '';\n",
              "          dataTable['output_type'] = 'display_data';\n",
              "          await google.colab.output.renderOutput(dataTable, element);\n",
              "          const docLink = document.createElement('div');\n",
              "          docLink.innerHTML = docLinkHtml;\n",
              "          element.appendChild(docLink);\n",
              "        }\n",
              "      </script>\n",
              "    </div>\n",
              "  </div>\n",
              "  "
            ],
            "text/plain": [
              "  customer_id      name  ...  prev_defaults default_in_last_6months\n",
              "0  CST_142525      Siva  ...              0                       0\n",
              "1  CST_129215     Scott  ...              0                       0\n",
              "2  CST_138443  Victoria  ...              2                       0\n",
              "\n",
              "[3 rows x 18 columns]"
            ]
          },
          "execution_count": 5,
          "metadata": {},
          "output_type": "execute_result"
        }
      ],
      "source": [
        "print('\\nTest Dataset : ',df_test.shape)\n",
        "df_test.head(3)"
      ]
    },
    {
      "cell_type": "code",
      "execution_count": null,
      "metadata": {
        "colab": {
          "base_uri": "https://localhost:8080/"
        },
        "id": "njBSvg3kM1JW",
        "outputId": "a03d6e24-100e-4197-d983-1b922efa64ea"
      },
      "outputs": [
        {
          "data": {
            "text/plain": [
              "0    41831\n",
              "1     3697\n",
              "Name: credit_card_default, dtype: int64"
            ]
          },
          "execution_count": 6,
          "metadata": {},
          "output_type": "execute_result"
        }
      ],
      "source": [
        "df_train['credit_card_default'].value_counts()"
      ]
    },
    {
      "cell_type": "code",
      "execution_count": null,
      "metadata": {
        "id": "TTEI1NEG0N2m"
      },
      "outputs": [],
      "source": [
        "df_train_backup = df_train\n",
        "df_test_backup = df_test"
      ]
    },
    {
      "cell_type": "code",
      "execution_count": null,
      "metadata": {
        "colab": {
          "base_uri": "https://localhost:8080/"
        },
        "id": "AL-t6WlpXFtG",
        "outputId": "1240a662-9a0b-4337-ecdc-aa5b31a70a74"
      },
      "outputs": [
        {
          "data": {
            "text/plain": [
              "customer_id                0.00\n",
              "name                       0.00\n",
              "age                        0.00\n",
              "gender                     0.00\n",
              "owns_car                   1.16\n",
              "owns_house                 0.00\n",
              "no_of_children             1.67\n",
              "net_yearly_income          0.00\n",
              "no_of_days_employed        0.92\n",
              "occupation_type            0.00\n",
              "total_family_members       0.27\n",
              "migrant_worker             0.23\n",
              "yearly_debt_payments       0.19\n",
              "credit_limit               0.00\n",
              "credit_limit_used(%)       0.00\n",
              "credit_score               0.03\n",
              "prev_defaults              0.00\n",
              "default_in_last_6months    0.00\n",
              "dtype: float64"
            ]
          },
          "execution_count": 32,
          "metadata": {},
          "output_type": "execute_result"
        }
      ],
      "source": [
        "#Percentage of null values present in each column --- TRAIN DATASET\n",
        "((df_test.isnull() | df_test.isna()).sum() * 100 / df_test.index.size).round(2)"
      ]
    },
    {
      "cell_type": "code",
      "execution_count": null,
      "metadata": {
        "colab": {
          "base_uri": "https://localhost:8080/"
        },
        "id": "Qdf4eed3YTkM",
        "outputId": "e422bf09-ec1c-420e-a5de-e8477eb6762d"
      },
      "outputs": [
        {
          "data": {
            "text/plain": [
              "customer_id                0.00\n",
              "name                       0.00\n",
              "age                        0.00\n",
              "gender                     0.00\n",
              "owns_car                   1.20\n",
              "owns_house                 0.00\n",
              "no_of_children             1.70\n",
              "net_yearly_income          0.00\n",
              "no_of_days_employed        1.02\n",
              "occupation_type            0.00\n",
              "total_family_members       0.18\n",
              "migrant_worker             0.19\n",
              "yearly_debt_payments       0.21\n",
              "credit_limit               0.00\n",
              "credit_limit_used(%)       0.00\n",
              "credit_score               0.02\n",
              "prev_defaults              0.00\n",
              "default_in_last_6months    0.00\n",
              "credit_card_default        0.00\n",
              "dtype: float64"
            ]
          },
          "execution_count": 8,
          "metadata": {},
          "output_type": "execute_result"
        }
      ],
      "source": [
        "#Percentage of null values present in each column --- TRAIN DATASET\n",
        "((df_train.isnull() | df_train.isna()).sum() * 100 / df_train.index.size).round(2)"
      ]
    },
    {
      "cell_type": "code",
      "execution_count": null,
      "metadata": {
        "id": "0qZ-zjykMyir"
      },
      "outputs": [],
      "source": [
        "#separate the dataset\n",
        "default_df = df_train.loc[df_train['credit_card_default'] == 1]\n",
        "non_default_df = df_train.loc[df_train['credit_card_default'] == 0]"
      ]
    },
    {
      "cell_type": "code",
      "execution_count": null,
      "metadata": {
        "colab": {
          "base_uri": "https://localhost:8080/"
        },
        "id": "YlQrBZeBN6O8",
        "outputId": "f380b720-56f5-41fd-bbfa-1080916d203e"
      },
      "outputs": [
        {
          "data": {
            "text/plain": [
              "customer_id                0.00\n",
              "name                       0.00\n",
              "age                        0.00\n",
              "gender                     0.00\n",
              "owns_car                   1.20\n",
              "owns_house                 0.00\n",
              "no_of_children             1.69\n",
              "net_yearly_income          0.00\n",
              "no_of_days_employed        1.02\n",
              "occupation_type            0.00\n",
              "total_family_members       0.18\n",
              "migrant_worker             0.19\n",
              "yearly_debt_payments       0.21\n",
              "credit_limit               0.00\n",
              "credit_limit_used(%)       0.00\n",
              "credit_score               0.02\n",
              "prev_defaults              0.00\n",
              "default_in_last_6months    0.00\n",
              "credit_card_default        0.00\n",
              "dtype: float64"
            ]
          },
          "execution_count": 14,
          "metadata": {},
          "output_type": "execute_result"
        }
      ],
      "source": [
        "#Percentage of null values present in each column --- TRAIN DATASET\n",
        "((non_default_df.isnull() | non_default_df.isna()).sum() * 100 / non_default_df.index.size).round(2)"
      ]
    },
    {
      "cell_type": "code",
      "execution_count": null,
      "metadata": {
        "colab": {
          "base_uri": "https://localhost:8080/"
        },
        "id": "cElBNBMROBFF",
        "outputId": "c34d373e-f692-4f96-d931-f5113b2e3140"
      },
      "outputs": [
        {
          "data": {
            "text/plain": [
              "customer_id                0.00\n",
              "name                       0.00\n",
              "age                        0.00\n",
              "gender                     0.00\n",
              "owns_car                   1.24\n",
              "owns_house                 0.00\n",
              "no_of_children             1.79\n",
              "net_yearly_income          0.00\n",
              "no_of_days_employed        0.95\n",
              "occupation_type            0.00\n",
              "total_family_members       0.19\n",
              "migrant_worker             0.16\n",
              "yearly_debt_payments       0.22\n",
              "credit_limit               0.00\n",
              "credit_limit_used(%)       0.00\n",
              "credit_score               0.03\n",
              "prev_defaults              0.00\n",
              "default_in_last_6months    0.00\n",
              "credit_card_default        0.00\n",
              "dtype: float64"
            ]
          },
          "execution_count": 15,
          "metadata": {},
          "output_type": "execute_result"
        }
      ],
      "source": [
        "#Percentage of null values present in each column --- TRAIN DATASET\n",
        "((default_df.isnull() | default_df.isna()).sum() * 100 / default_df.index.size).round(2)"
      ]
    },
    {
      "cell_type": "code",
      "execution_count": null,
      "metadata": {
        "colab": {
          "base_uri": "https://localhost:8080/"
        },
        "id": "YGjR9KAdOUyZ",
        "outputId": "a64603da-7f5b-48e1-c78e-b010be84a9e4"
      },
      "outputs": [
        {
          "data": {
            "text/plain": [
              "0    39978\n",
              "1     3531\n",
              "Name: credit_card_default, dtype: int64"
            ]
          },
          "execution_count": 16,
          "metadata": {},
          "output_type": "execute_result"
        }
      ],
      "source": [
        "non_na_df = df_train.dropna()\n",
        "non_na_df['credit_card_default'].value_counts()"
      ]
    },
    {
      "cell_type": "markdown",
      "metadata": {
        "id": "s5Nh2YY0xNNJ"
      },
      "source": [
        "**Global Declarations**"
      ]
    },
    {
      "cell_type": "code",
      "execution_count": null,
      "metadata": {
        "id": "JTstlzkexP2c"
      },
      "outputs": [],
      "source": [
        "NON_FEATURE_COLS = ['customer_id', 'name', 'occupation_type']\n",
        "LABEL_COL = 'credit_card_default'\n",
        "CATEGORICAL_COLS = ['owns_car','owns_house','gender']"
      ]
    },
    {
      "cell_type": "markdown",
      "metadata": {
        "id": "qHakTMlSbxjs"
      },
      "source": [
        "*The % of NULL values is less than 1.5% in every column. Hence we need not drop a column.*"
      ]
    },
    {
      "cell_type": "markdown",
      "metadata": {
        "id": "MR3qu3CmQNKF"
      },
      "source": [
        "# Handle missing values"
      ]
    },
    {
      "cell_type": "code",
      "execution_count": null,
      "metadata": {
        "id": "O4kY98LzQP3S"
      },
      "outputs": [],
      "source": [
        "def replace_NA(df):\n",
        "\n",
        "  #Replace the missing values for categorical columns with mode\n",
        "  df['owns_car'] = df['owns_car'].fillna(df['owns_car'].mode()[0])\n",
        "\n",
        "  #Replace the missing values with mean\n",
        "  df['no_of_days_employed'] = df['no_of_days_employed'].fillna(df['no_of_days_employed'].mean())\n",
        "  df['no_of_children'] = df['no_of_children'].fillna(df['no_of_children'].mean())\n",
        "  df['total_family_members'] = df['total_family_members'].fillna(df['total_family_members'].mean())\n",
        "  df['migrant_worker'] = df['migrant_worker'].fillna(df['migrant_worker'].mean())\n",
        "  df['yearly_debt_payments'] = df['yearly_debt_payments'].fillna(df['yearly_debt_payments'].mean())\n",
        "  df['credit_score'] = df['credit_score'].fillna(df['credit_score'].mean())\n",
        "\n",
        "  return df"
      ]
    },
    {
      "cell_type": "markdown",
      "metadata": {
        "id": "V3_q4bPYhBCM"
      },
      "source": [
        "# Data Transformation"
      ]
    },
    {
      "cell_type": "code",
      "execution_count": null,
      "metadata": {
        "id": "Kasp2tn1ktHI"
      },
      "outputs": [],
      "source": [
        "#Encode Columns\n",
        "def encode_columns(df_train,df_test):\n",
        "  # instantiate labelencoder object\n",
        "  le = LabelEncoder()\n",
        "\n",
        "  # apply le on categorical feature columns\n",
        "\n",
        "  X_train = df_train \n",
        "  X_train[CATEGORICAL_COLS] = X_train[CATEGORICAL_COLS].apply(lambda col: le.fit_transform(col))\n",
        "\n",
        "  X_test = df_test\n",
        "  X_test[CATEGORICAL_COLS] = X_test[CATEGORICAL_COLS].apply(lambda col: le.fit_transform(col))\n",
        "\n",
        "  return (X_train,X_test)"
      ]
    },
    {
      "cell_type": "code",
      "execution_count": null,
      "metadata": {
        "id": "T7XIwS_Awopa"
      },
      "outputs": [],
      "source": [
        "def create_features_and_labels(df,train):\n",
        "  if train == 'X':\n",
        "    df = df.sample(frac=1).reset_index(drop=True)\n",
        "    x_features = df.drop(NON_FEATURE_COLS,axis=1)\n",
        "    x_features = x_features.drop([LABEL_COL],axis=1)\n",
        "    y_label = df[LABEL_COL]\n",
        "    print(x_features.shape , y_label.shape)\n",
        "    return (x_features,y_label)\n",
        "  else:\n",
        "    x_features = df.drop(NON_FEATURE_COLS,axis=1)\n",
        "    print(x_features.shape)\n",
        "    return (x_features)"
      ]
    },
    {
      "cell_type": "markdown",
      "metadata": {
        "id": "MvpfNmgNrunH"
      },
      "source": [
        "# Prediction & Evaluation Metrics"
      ]
    },
    {
      "cell_type": "code",
      "execution_count": null,
      "metadata": {
        "id": "1rq1m3pQryl5"
      },
      "outputs": [],
      "source": [
        "def generate_predictions(model,x_test,y_test):\n",
        "\n",
        "  predictions = model.predict(x_test)\n",
        "  score = model.score(x_test,y_test) * 100\n",
        "  print('Accuracy = ',score)\n",
        "\n",
        "  print('Classification Report')\n",
        "  print(classification_report(y_test, predictions))"
      ]
    },
    {
      "cell_type": "markdown",
      "metadata": {
        "id": "PTQSbNUlpwpe"
      },
      "source": [
        "# Baseline Model (Logistic Regression)"
      ]
    },
    {
      "cell_type": "code",
      "execution_count": null,
      "metadata": {
        "id": "6rKtuaSnp1WU"
      },
      "outputs": [],
      "source": [
        "def baseline_model(x_train,y_train):\n",
        "  #Load the Model\n",
        "  lr = LogisticRegression()\n",
        "  #Train\n",
        "  lr.fit(x_train,y_train)\n",
        "\n",
        "  return lr"
      ]
    },
    {
      "cell_type": "markdown",
      "metadata": {
        "id": "PBAWvFm0aicu"
      },
      "source": [
        "# Random Forest"
      ]
    },
    {
      "cell_type": "code",
      "execution_count": null,
      "metadata": {
        "id": "vAAzchjIanGX"
      },
      "outputs": [],
      "source": [
        "#hyperparameters\n",
        "params_rf = {}"
      ]
    },
    {
      "cell_type": "code",
      "execution_count": null,
      "metadata": {
        "id": "1zOZuckcanPC"
      },
      "outputs": [],
      "source": [
        "#Random Forest\n",
        "def random_forest(x_train,y_train,estimators):\n",
        "  rfc = RandomForestClassifier(n_estimators = estimators)\n",
        "  rfc.fit(x_train,y_train)\n",
        "\n",
        "  return rfc"
      ]
    },
    {
      "cell_type": "markdown",
      "metadata": {
        "id": "H7IuLE2ZZnCn"
      },
      "source": [
        "# Prediction on given Data"
      ]
    },
    {
      "cell_type": "code",
      "execution_count": null,
      "metadata": {
        "id": "hUcdG_sRt7fF"
      },
      "outputs": [],
      "source": [
        "def generate_submission(model,df_test,x_test_features,filename):\n",
        "\n",
        "  predictions = model.predict(x_test_features)\n",
        "  df_test['credit_card_default'] = predictions\n",
        "\n",
        "  results = pd.DataFrame()\n",
        "  results['customer_id'] = df_test['customer_id']\n",
        "  results['credit_card_default'] = df_test['credit_card_default']\n",
        "  results.head(5)\n",
        "\n",
        "  results.to_csv(filename,index=False)\n",
        "  print('File Saved ---->>> ',filename)\n",
        "\n"
      ]
    },
    {
      "cell_type": "markdown",
      "metadata": {
        "id": "85hWaACsefjl"
      },
      "source": [
        "# Prepare Data for Model Training"
      ]
    },
    {
      "cell_type": "markdown",
      "metadata": {
        "id": "oz-YNQHgvNTW"
      },
      "source": [
        "**Load Data**"
      ]
    },
    {
      "cell_type": "code",
      "execution_count": null,
      "metadata": {
        "id": "ElrCIrXovRFL"
      },
      "outputs": [],
      "source": [
        "df_train = df_train_backup\n",
        "df_test = df_test_backup"
      ]
    },
    {
      "cell_type": "code",
      "execution_count": null,
      "metadata": {
        "id": "XpYVEk-COzs-"
      },
      "outputs": [],
      "source": [
        "df_test = df_test_backup"
      ]
    },
    {
      "cell_type": "code",
      "execution_count": null,
      "metadata": {
        "colab": {
          "base_uri": "https://localhost:8080/"
        },
        "id": "gFLlflbVBnAy",
        "outputId": "31340244-1e64-48b9-be4d-674b8c2825ce"
      },
      "outputs": [
        {
          "data": {
            "text/plain": [
              "(11383, 19)"
            ]
          },
          "execution_count": 68,
          "metadata": {},
          "output_type": "execute_result"
        }
      ],
      "source": [
        "df_test.shape"
      ]
    },
    {
      "cell_type": "markdown",
      "metadata": {
        "id": "EyxA6dAIO0NN"
      },
      "source": [
        "**Under-Sampling Data**"
      ]
    },
    {
      "cell_type": "code",
      "execution_count": null,
      "metadata": {
        "id": "_62KFWhrO7sA"
      },
      "outputs": [],
      "source": [
        "#separate the dataset\n",
        "default_df = df_train.loc[df_train['credit_card_default'] == 1]\n",
        "non_default_df = df_train.loc[df_train['credit_card_default'] == 0]"
      ]
    },
    {
      "cell_type": "code",
      "execution_count": null,
      "metadata": {
        "id": "R-xncYcFO5UX"
      },
      "outputs": [],
      "source": [
        "normal_distributed_df = pd.concat([fraud_df, non_fraud_df])\n",
        "\n",
        "# Shuffle dataframe rows\n",
        "new_df = normal_distributed_df.sample(frac=1, random_state=42)\n",
        "\n",
        "new_df.head()"
      ]
    },
    {
      "cell_type": "code",
      "execution_count": null,
      "metadata": {
        "id": "sVHM7aVTO5b5"
      },
      "outputs": [],
      "source": [
        ""
      ]
    },
    {
      "cell_type": "markdown",
      "metadata": {
        "id": "hxra11qSvRhC"
      },
      "source": [
        "**Transform Data**"
      ]
    },
    {
      "cell_type": "code",
      "execution_count": null,
      "metadata": {
        "id": "H4R0AVKBvK4k"
      },
      "outputs": [],
      "source": [
        "#Replace Missing Values\n",
        "df_train = replace_NA(df_train)\n",
        "df_test = replace_NA(df_test)"
      ]
    },
    {
      "cell_type": "code",
      "execution_count": null,
      "metadata": {
        "id": "JRU4MMmU2eTe"
      },
      "outputs": [],
      "source": [
        "#Encode Categorical Columns\n",
        "df_train, df_test = encode_columns(df_train, df_test)"
      ]
    },
    {
      "cell_type": "code",
      "execution_count": null,
      "metadata": {
        "colab": {
          "base_uri": "https://localhost:8080/"
        },
        "id": "kjyDUxgP2gSz",
        "outputId": "22f4b408-026c-41df-9b47-2b22e85c80f8"
      },
      "outputs": [
        {
          "name": "stdout",
          "output_type": "stream",
          "text": [
            "(45528, 15) (45528,)\n",
            "(11383, 15)\n"
          ]
        }
      ],
      "source": [
        "#Features & Labels\n",
        "x_train_features, y_train_labels = create_features_and_labels(df_train,'X')\n",
        "\n",
        "x_test_features = create_features_and_labels(df_test,'')"
      ]
    },
    {
      "cell_type": "markdown",
      "metadata": {
        "id": "eaE8NTknvV8v"
      },
      "source": [
        "**Generate Testing & Training Dataset**"
      ]
    },
    {
      "cell_type": "code",
      "execution_count": null,
      "metadata": {
        "id": "D9m0VBI1vbrj"
      },
      "outputs": [],
      "source": [
        "#split the data\n",
        "x_train, x_test, y_train, y_test = train_test_split(x_train_features, y_train_labels, test_size=0.20, random_state=0)"
      ]
    },
    {
      "cell_type": "code",
      "execution_count": null,
      "metadata": {
        "id": "DDuWanNBekBZ"
      },
      "outputs": [],
      "source": [
        ""
      ]
    },
    {
      "cell_type": "markdown",
      "metadata": {
        "id": "Iz8XwsUovF_m"
      },
      "source": [
        "# TEST #1 : Baseline Model (LR)"
      ]
    },
    {
      "cell_type": "markdown",
      "metadata": {
        "id": "hO49_INsvfTo"
      },
      "source": [
        "**Model Training & Predictions**"
      ]
    },
    {
      "cell_type": "code",
      "execution_count": null,
      "metadata": {
        "colab": {
          "base_uri": "https://localhost:8080/"
        },
        "id": "otdrlrWTvlNt",
        "outputId": "03da165f-7b7f-4d07-ef3b-340e7285d24c"
      },
      "outputs": [
        {
          "name": "stdout",
          "output_type": "stream",
          "text": [
            "/n Accuracy =  95.69514605754448\n",
            "/nClassification Report\n",
            "              precision    recall  f1-score   support\n",
            "\n",
            "           0       0.97      0.98      0.98      8354\n",
            "           1       0.79      0.65      0.71       752\n",
            "\n",
            "    accuracy                           0.96      9106\n",
            "   macro avg       0.88      0.82      0.85      9106\n",
            "weighted avg       0.95      0.96      0.96      9106\n",
            "\n"
          ]
        }
      ],
      "source": [
        "model_lr_1 = baseline_model(x_train,y_train)\n",
        "generate_predictions(model_lr_1,x_test,y_test)"
      ]
    },
    {
      "cell_type": "markdown",
      "metadata": {
        "id": "sm-84gyIvl6O"
      },
      "source": [
        "**Model Training on the entire Training Data**"
      ]
    },
    {
      "cell_type": "code",
      "execution_count": null,
      "metadata": {
        "id": "XH7GgGwXvprX"
      },
      "outputs": [],
      "source": [
        "model_lr = baseline_model(x_train_features,y_train_labels)"
      ]
    },
    {
      "cell_type": "markdown",
      "metadata": {
        "id": "N_ajs0UMvsNc"
      },
      "source": [
        "**Generate submission file**"
      ]
    },
    {
      "cell_type": "code",
      "execution_count": null,
      "metadata": {
        "colab": {
          "base_uri": "https://localhost:8080/"
        },
        "id": "qY0aDm87v5a7",
        "outputId": "9a4d4a70-499a-470f-ff3c-cc7e7367e2d8"
      },
      "outputs": [
        {
          "name": "stdout",
          "output_type": "stream",
          "text": [
            "File Saved ---->>>  test1_lr.csv\n"
          ]
        }
      ],
      "source": [
        "generate_submission(model_lr,df_test,x_test_features,'test1_lr.csv')"
      ]
    },
    {
      "cell_type": "markdown",
      "metadata": {
        "id": "uXkYJfa_ez5J"
      },
      "source": [
        "**Score : 82.41476** "
      ]
    },
    {
      "cell_type": "code",
      "execution_count": null,
      "metadata": {
        "id": "I6kacOjBwAke"
      },
      "outputs": [],
      "source": [
        ""
      ]
    },
    {
      "cell_type": "markdown",
      "metadata": {
        "id": "lzpMaheHwCr0"
      },
      "source": [
        "# TEST #2 : Random Forest"
      ]
    },
    {
      "cell_type": "markdown",
      "metadata": {
        "id": "dDF_q0CtwCr3"
      },
      "source": [
        "**Model Training & Predictions**"
      ]
    },
    {
      "cell_type": "code",
      "execution_count": null,
      "metadata": {
        "colab": {
          "base_uri": "https://localhost:8080/"
        },
        "id": "bOyjfOcxwCr3",
        "outputId": "af2a5238-17eb-4314-c64b-1e901a18a807"
      },
      "outputs": [
        {
          "name": "stdout",
          "output_type": "stream",
          "text": [
            "Accuracy =  97.90248188007908\n",
            "Classification Report\n",
            "              precision    recall  f1-score   support\n",
            "\n",
            "           0       0.98      1.00      0.99      8363\n",
            "           1       0.99      0.75      0.85       743\n",
            "\n",
            "    accuracy                           0.98      9106\n",
            "   macro avg       0.99      0.87      0.92      9106\n",
            "weighted avg       0.98      0.98      0.98      9106\n",
            "\n"
          ]
        }
      ],
      "source": [
        "model_rf_1 = random_forest(x_train,y_train,200)\n",
        "generate_predictions(model_rf_1,x_test,y_test)"
      ]
    },
    {
      "cell_type": "markdown",
      "metadata": {
        "id": "KfQbdqs8wCr4"
      },
      "source": [
        "**Model Training on the entire Training Data**"
      ]
    },
    {
      "cell_type": "code",
      "execution_count": null,
      "metadata": {
        "id": "cf3luvd8wCr4"
      },
      "outputs": [],
      "source": [
        "model_rf = random_forest(x_train_features,y_train_labels,200)"
      ]
    },
    {
      "cell_type": "markdown",
      "metadata": {
        "id": "F5gB70XnwCr4"
      },
      "source": [
        "**Generate submission file**"
      ]
    },
    {
      "cell_type": "code",
      "execution_count": null,
      "metadata": {
        "colab": {
          "base_uri": "https://localhost:8080/"
        },
        "id": "wIAB35dGwCr5",
        "outputId": "ecf059a2-c4d0-48dd-8e88-d8b2e427e0ae"
      },
      "outputs": [
        {
          "name": "stdout",
          "output_type": "stream",
          "text": [
            "File Saved ---->>>  test2_rf.csv\n"
          ]
        }
      ],
      "source": [
        "generate_submission(model_rf,df_test,x_test_features,'test2_rf.csv')"
      ]
    },
    {
      "cell_type": "markdown",
      "metadata": {
        "id": "Hly3LvFde_z7"
      },
      "source": [
        "**Score : 91.74152**"
      ]
    },
    {
      "cell_type": "code",
      "execution_count": null,
      "metadata": {
        "id": "QIw55EHPwMAl"
      },
      "outputs": [],
      "source": [
        ""
      ]
    },
    {
      "cell_type": "markdown",
      "metadata": {
        "id": "QOHu98frwMuC"
      },
      "source": [
        "# TEST #3 : Random Forest ( Tree Count = 2000 )"
      ]
    },
    {
      "cell_type": "markdown",
      "metadata": {
        "id": "saWvZ3mlwMuF"
      },
      "source": [
        "**Model Training & Predictions**"
      ]
    },
    {
      "cell_type": "code",
      "execution_count": null,
      "metadata": {
        "colab": {
          "base_uri": "https://localhost:8080/"
        },
        "id": "NMF1GYZJwMuF",
        "outputId": "e94cf3f1-11d0-4123-cba9-3d7c62a0cc58"
      },
      "outputs": [
        {
          "name": "stdout",
          "output_type": "stream",
          "text": [
            "Accuracy =  98.04524489347682\n",
            "Classification Report\n",
            "              precision    recall  f1-score   support\n",
            "\n",
            "           0       0.98      1.00      0.99      8388\n",
            "           1       0.99      0.76      0.86       718\n",
            "\n",
            "    accuracy                           0.98      9106\n",
            "   macro avg       0.98      0.88      0.92      9106\n",
            "weighted avg       0.98      0.98      0.98      9106\n",
            "\n"
          ]
        }
      ],
      "source": [
        "model_rf_2 = random_forest(x_train,y_train,2000)\n",
        "generate_predictions(model_rf_2,x_test,y_test)"
      ]
    },
    {
      "cell_type": "markdown",
      "metadata": {
        "id": "_0CEoYfrwMuG"
      },
      "source": [
        "**Model Training on the entire Training Data**"
      ]
    },
    {
      "cell_type": "code",
      "execution_count": null,
      "metadata": {
        "id": "ICvc8PKhwMuG"
      },
      "outputs": [],
      "source": [
        "model_rf = random_forest(x_train_features,y_train_labels,2000)"
      ]
    },
    {
      "cell_type": "markdown",
      "metadata": {
        "id": "TEjWdmBZwMuG"
      },
      "source": [
        "**Generate submission file**"
      ]
    },
    {
      "cell_type": "code",
      "execution_count": null,
      "metadata": {
        "colab": {
          "base_uri": "https://localhost:8080/"
        },
        "id": "M6qJsH-OwMuH",
        "outputId": "22a166d8-a3d1-473c-a6aa-ef71f93fffc7"
      },
      "outputs": [
        {
          "name": "stdout",
          "output_type": "stream",
          "text": [
            "File Saved ---->>>  test2_rf_HT.csv\n"
          ]
        }
      ],
      "source": [
        "generate_submission(model_rf,df_test,x_test_features,'test2_rf_HT.csv')"
      ]
    },
    {
      "cell_type": "markdown",
      "metadata": {
        "id": "Z9ADQEmI_5G6"
      },
      "source": [
        "**Score : 92.08207**"
      ]
    },
    {
      "cell_type": "code",
      "execution_count": null,
      "metadata": {
        "id": "rhTsnZeZGBus"
      },
      "outputs": [],
      "source": [
        ""
      ]
    },
    {
      "cell_type": "markdown",
      "metadata": {
        "id": "Pdqi7iu-T0pm"
      },
      "source": [
        "# Oversampling - SMOTE"
      ]
    },
    {
      "cell_type": "code",
      "execution_count": null,
      "metadata": {
        "id": "3zatIk3HU0u3"
      },
      "outputs": [],
      "source": [
        "import numpy as np\n",
        "from sklearn.model_selection import KFold, StratifiedKFold\n",
        "from imblearn.pipeline import make_pipeline as imbalanced_make_pipeline"
      ]
    },
    {
      "cell_type": "code",
      "execution_count": null,
      "metadata": {
        "id": "waBIB8buXxNN"
      },
      "outputs": [],
      "source": [
        "from sklearn.metrics import precision_score, recall_score, f1_score, roc_auc_score, accuracy_score, classification_report"
      ]
    },
    {
      "cell_type": "code",
      "execution_count": null,
      "metadata": {
        "id": "mNHnbskAXQk0"
      },
      "outputs": [],
      "source": [
        "#Replace Missing Values\n",
        "df_train = replace_NA(df_train)\n",
        "df_test = replace_NA(df_test)"
      ]
    },
    {
      "cell_type": "code",
      "execution_count": null,
      "metadata": {
        "id": "rvXNZwqqW0A0"
      },
      "outputs": [],
      "source": [
        "#Encode Categorical Columns\n",
        "df_train, df_test = encode_columns(df_train, df_test)"
      ]
    },
    {
      "cell_type": "code",
      "execution_count": null,
      "metadata": {
        "colab": {
          "base_uri": "https://localhost:8080/"
        },
        "id": "W4WK30fTUqpt",
        "outputId": "ec7b0875-fd8b-4da2-c0bf-9617d76882f1"
      },
      "outputs": [
        {
          "name": "stdout",
          "output_type": "stream",
          "text": [
            "No Defaults 91.88 % of the dataset\n",
            "Defaults 8.12 % of the dataset\n",
            "Train: [ 9106  9107  9108 ... 45525 45526 45527] Test: [   0    1    2 ... 9104 9105 9117]\n",
            "Train: [    0     1     2 ... 45525 45526 45527] Test: [ 9106  9107  9108 ... 18481 18532 18544]\n",
            "Train: [    0     1     2 ... 45525 45526 45527] Test: [18192 18193 18194 ... 27673 27677 27678]\n",
            "Train: [    0     1     2 ... 45525 45526 45527] Test: [27291 27292 27293 ... 36840 36843 36846]\n",
            "Train: [    0     1     2 ... 36840 36843 36846] Test: [36381 36382 36383 ... 45525 45526 45527]\n",
            "----------------------------------------------------------------------------------------------------\n",
            "Label Distributions: \n",
            "\n",
            "[0.91878758 0.08121242]\n",
            "[0.9188358 0.0811642]\n"
          ]
        }
      ],
      "source": [
        "from sklearn.model_selection import train_test_split\n",
        "from sklearn.model_selection import StratifiedShuffleSplit\n",
        "\n",
        "df = df_train\n",
        "\n",
        "print('No Defaults', round(df[LABEL_COL].value_counts()[0]/len(df) * 100,2), '% of the dataset')\n",
        "print('Defaults', round(df[LABEL_COL].value_counts()[1]/len(df) * 100,2), '% of the dataset')\n",
        "\n",
        "X = df.drop({LABEL_COL,'customer_id','name', 'occupation_type'}, axis=1)\n",
        "y = df[LABEL_COL]\n",
        "\n",
        "sss = StratifiedKFold(n_splits=5, random_state=None, shuffle=False)\n",
        "\n",
        "for train_index, test_index in sss.split(X, y):\n",
        "    print(\"Train:\", train_index, \"Test:\", test_index)\n",
        "    original_Xtrain, original_Xtest = X.iloc[train_index], X.iloc[test_index]\n",
        "    original_ytrain, original_ytest = y.iloc[train_index], y.iloc[test_index]\n",
        "\n",
        "# We already have X_train and y_train for undersample data thats why I am using original to distinguish and to not overwrite these variables.\n",
        "# original_Xtrain, original_Xtest, original_ytrain, original_ytest = train_test_split(X, y, test_size=0.2, random_state=42)\n",
        "\n",
        "# Check the Distribution of the labels\n",
        "\n",
        "\n",
        "# Turn into an array\n",
        "original_Xtrain = original_Xtrain.values\n",
        "original_Xtest = original_Xtest.values\n",
        "original_ytrain = original_ytrain.values\n",
        "original_ytest = original_ytest.values\n",
        "\n",
        "# See if both the train and test label distribution are similarly distributed\n",
        "train_unique_label, train_counts_label = np.unique(original_ytrain, return_counts=True)\n",
        "test_unique_label, test_counts_label = np.unique(original_ytest, return_counts=True)\n",
        "print('-' * 100)\n",
        "\n",
        "print('Label Distributions: \\n')\n",
        "print(train_counts_label/ len(original_ytrain))\n",
        "print(test_counts_label/ len(original_ytest))"
      ]
    },
    {
      "cell_type": "code",
      "execution_count": null,
      "metadata": {
        "colab": {
          "background_save": true,
          "base_uri": "https://localhost:8080/"
        },
        "id": "26ipcaR1T3WX",
        "outputId": "12671054-f253-4391-d625-549ce553d1c5"
      },
      "outputs": [
        {
          "name": "stdout",
          "output_type": "stream",
          "text": [
            "Length of X (train): 36423 | Length of y (train): 36423\n",
            "Length of X (test): 9105 | Length of y (test): 9105\n"
          ]
        },
        {
          "name": "stderr",
          "output_type": "stream",
          "text": [
            "/usr/local/lib/python3.7/dist-packages/sklearn/model_selection/_split.py:2052: FutureWarning: You should specify a value for 'cv' instead of relying on the default value. The default value will change from 3 to 5 in version 0.22.\n",
            "  warnings.warn(CV_WARNING, FutureWarning)\n",
            "/usr/local/lib/python3.7/dist-packages/sklearn/model_selection/_search.py:271: UserWarning: The total space of parameters 1 is smaller than n_iter=4. Running 1 iterations. For exhaustive searches, use GridSearchCV.\n",
            "  % (grid_size, self.n_iter, grid_size), UserWarning)\n",
            "/usr/local/lib/python3.7/dist-packages/sklearn/model_selection/_split.py:2052: FutureWarning: You should specify a value for 'cv' instead of relying on the default value. The default value will change from 3 to 5 in version 0.22.\n",
            "  warnings.warn(CV_WARNING, FutureWarning)\n",
            "/usr/local/lib/python3.7/dist-packages/sklearn/model_selection/_search.py:271: UserWarning: The total space of parameters 1 is smaller than n_iter=4. Running 1 iterations. For exhaustive searches, use GridSearchCV.\n",
            "  % (grid_size, self.n_iter, grid_size), UserWarning)\n",
            "/usr/local/lib/python3.7/dist-packages/sklearn/model_selection/_split.py:2052: FutureWarning: You should specify a value for 'cv' instead of relying on the default value. The default value will change from 3 to 5 in version 0.22.\n",
            "  warnings.warn(CV_WARNING, FutureWarning)\n",
            "/usr/local/lib/python3.7/dist-packages/sklearn/model_selection/_search.py:271: UserWarning: The total space of parameters 1 is smaller than n_iter=4. Running 1 iterations. For exhaustive searches, use GridSearchCV.\n",
            "  % (grid_size, self.n_iter, grid_size), UserWarning)\n",
            "/usr/local/lib/python3.7/dist-packages/sklearn/model_selection/_split.py:2052: FutureWarning: You should specify a value for 'cv' instead of relying on the default value. The default value will change from 3 to 5 in version 0.22.\n",
            "  warnings.warn(CV_WARNING, FutureWarning)\n",
            "/usr/local/lib/python3.7/dist-packages/sklearn/model_selection/_search.py:271: UserWarning: The total space of parameters 1 is smaller than n_iter=4. Running 1 iterations. For exhaustive searches, use GridSearchCV.\n",
            "  % (grid_size, self.n_iter, grid_size), UserWarning)\n",
            "/usr/local/lib/python3.7/dist-packages/sklearn/model_selection/_split.py:2052: FutureWarning: You should specify a value for 'cv' instead of relying on the default value. The default value will change from 3 to 5 in version 0.22.\n",
            "  warnings.warn(CV_WARNING, FutureWarning)\n",
            "/usr/local/lib/python3.7/dist-packages/sklearn/model_selection/_search.py:271: UserWarning: The total space of parameters 1 is smaller than n_iter=4. Running 1 iterations. For exhaustive searches, use GridSearchCV.\n",
            "  % (grid_size, self.n_iter, grid_size), UserWarning)\n"
          ]
        },
        {
          "name": "stdout",
          "output_type": "stream",
          "text": [
            "---------------------------------------------------------------------------------------------------------------------------------------\n",
            "\n",
            "accuracy: 0.9796557473870203\n",
            "precision: 0.960313286690822\n",
            "recall: 0.7819465404490785\n",
            "f1: 0.8619096278185729\n",
            "---------------------------------------------------------------------------------------------------------------------------------------\n"
          ]
        }
      ],
      "source": [
        "from imblearn.over_sampling import SMOTE\n",
        "from sklearn.model_selection import train_test_split, RandomizedSearchCV\n",
        "\n",
        "\n",
        "print('Length of X (train): {} | Length of y (train): {}'.format(len(original_Xtrain), len(original_ytrain)))\n",
        "print('Length of X (test): {} | Length of y (test): {}'.format(len(original_Xtest), len(original_ytest)))\n",
        "\n",
        "\n",
        "# List to append the score and then find the average\n",
        "accuracy_lst = []\n",
        "precision_lst = []\n",
        "recall_lst = []\n",
        "f1_lst = []\n",
        "auc_lst = []\n",
        "\n",
        "# Classifier with optimal parameters\n",
        "# log_reg_sm = grid_log_reg.best_estimator_\n",
        "#log_reg_sm = LogisticRegression()\n",
        "#log_reg_params = {\"penalty\": ['l1', 'l2'], 'C': [0.001, 0.01, 0.1, 1, 10, 100, 1000]}\n",
        "#log_reg_params = {\"n_estimators\": [1000, 2000,5000,10000]}\n",
        "log_reg_params = {\"n_estimators\": [5000]}\n",
        "\n",
        "rf_reg_sm = RandomForestClassifier(n_estimators = 2000)\n",
        "# Implementing SMOTE Technique \n",
        "# Cross Validating the right way\n",
        "# Parameters\n",
        "\n",
        "#rand_log_reg = RandomizedSearchCV(LogisticRegression(), log_reg_params, n_iter=4)\n",
        "rand_log_reg = RandomizedSearchCV(RandomForestClassifier(),log_reg_params, n_iter=4)\n",
        "\n",
        "for train, test in sss.split(original_Xtrain, original_ytrain):\n",
        "    pipeline = imbalanced_make_pipeline(SMOTE(sampling_strategy='minority'), rand_log_reg) # SMOTE happens during Cross Validation not before..\n",
        "    model = pipeline.fit(original_Xtrain[train], original_ytrain[train])\n",
        "    best_est = rand_log_reg.best_estimator_\n",
        "    prediction = best_est.predict(original_Xtrain[test])\n",
        "  \n",
        "    accuracy_lst.append(pipeline.score(original_Xtrain[test], original_ytrain[test]))\n",
        "    precision_lst.append(precision_score(original_ytrain[test], prediction))\n",
        "    recall_lst.append(recall_score(original_ytrain[test], prediction))\n",
        "    f1_lst.append(f1_score(original_ytrain[test], prediction))\n",
        "    auc_lst.append(roc_auc_score(original_ytrain[test], prediction))\n",
        "  \n",
        "print('---' * 45)\n",
        "print('')\n",
        "print(\"accuracy: {}\".format(np.mean(accuracy_lst)))\n",
        "print(\"precision: {}\".format(np.mean(precision_lst)))\n",
        "print(\"recall: {}\".format(np.mean(recall_lst)))\n",
        "print(\"f1: {}\".format(np.mean(f1_lst)))\n",
        "print('---' * 45)"
      ]
    },
    {
      "cell_type": "code",
      "execution_count": null,
      "metadata": {
        "id": "ykxOYH0ngW0V"
      },
      "outputs": [],
      "source": [
        ""
      ]
    },
    {
      "cell_type": "code",
      "execution_count": null,
      "metadata": {
        "id": "p4_IwgoVgT0f"
      },
      "outputs": [],
      "source": [
        "# Logistic Regression\n",
        "t0 = time.time()\n",
        "log_reg_sm = grid_log_reg.best_estimator_\n",
        "log_reg_sm.fit(Xsm_train, ysm_train)\n",
        "t1 = time.time()\n",
        "print(\"Fitting oversample data took :{} sec\".format(t1 - t0))"
      ]
    },
    {
      "cell_type": "code",
      "execution_count": null,
      "metadata": {
        "colab": {
          "base_uri": "https://localhost:8080/"
        },
        "id": "g-cUMVshT3Yl",
        "outputId": "b58d7dc7-e293-4abe-c665-a458da527bfd"
      },
      "outputs": [
        {
          "name": "stdout",
          "output_type": "stream",
          "text": [
            "              precision    recall  f1-score   support\n",
            "\n",
            "           0       0.99      0.98      0.98      8366\n",
            "           1       0.81      0.84      0.82       739\n",
            "\n",
            "   micro avg       0.97      0.97      0.97      9105\n",
            "   macro avg       0.90      0.91      0.90      9105\n",
            "weighted avg       0.97      0.97      0.97      9105\n",
            "\n"
          ]
        }
      ],
      "source": [
        "labels = [0,1]\n",
        "smote_prediction = best_est.predict(original_Xtest)\n",
        "print(classification_report(original_ytest, smote_prediction))"
      ]
    },
    {
      "cell_type": "code",
      "execution_count": null,
      "metadata": {
        "colab": {
          "base_uri": "https://localhost:8080/"
        },
        "id": "pAvwH-Nthezu",
        "outputId": "40322749-58de-4a61-fee7-e598e3ac5ca6"
      },
      "outputs": [
        {
          "name": "stdout",
          "output_type": "stream",
          "text": [
            "Accuracy =  98.08896210873147\n",
            "Classification Report\n",
            "              precision    recall  f1-score   support\n",
            "\n",
            "           0       0.98      1.00      0.99      8366\n",
            "           1       0.97      0.79      0.87       739\n",
            "\n",
            "   micro avg       0.98      0.98      0.98      9105\n",
            "   macro avg       0.98      0.89      0.93      9105\n",
            "weighted avg       0.98      0.98      0.98      9105\n",
            "\n",
            "None\n"
          ]
        }
      ],
      "source": [
        "print(generate_predictions(best_est,original_Xtest,original_ytest))"
      ]
    },
    {
      "cell_type": "code",
      "execution_count": null,
      "metadata": {
        "id": "I1czgUivT3bW"
      },
      "outputs": [],
      "source": [
        "y_score = best_est.decision_function(original_Xtest)\n",
        "average_precision = average_precision_score(original_ytest, y_score)\n",
        "\n",
        "print('Average precision-recall score: {0:0.2f}'.format(\n",
        "      average_precision))"
      ]
    },
    {
      "cell_type": "markdown",
      "metadata": {
        "id": "8m5GjBoEaQ1t"
      },
      "source": [
        "**Prediction**"
      ]
    },
    {
      "cell_type": "code",
      "execution_count": null,
      "metadata": {
        "colab": {
          "base_uri": "https://localhost:8080/"
        },
        "id": "6rdfqbckT3eh",
        "outputId": "fbe4b0d2-289d-41f5-f194-2d804dab7f23"
      },
      "outputs": [
        {
          "name": "stdout",
          "output_type": "stream",
          "text": [
            "(11383, 15)\n"
          ]
        }
      ],
      "source": [
        "x_test_features = create_features_and_labels(df_test,'')"
      ]
    },
    {
      "cell_type": "markdown",
      "metadata": {
        "id": "_XLOH1d2b1W-"
      },
      "source": [
        "**Generate Submission**"
      ]
    },
    {
      "cell_type": "code",
      "execution_count": null,
      "metadata": {
        "colab": {
          "base_uri": "https://localhost:8080/"
        },
        "id": "uZozOnryb0pR",
        "outputId": "eb28c5d9-a8a5-499d-946d-ec364d514074"
      },
      "outputs": [
        {
          "name": "stdout",
          "output_type": "stream",
          "text": [
            "File Saved ---->>>  OUTPUT_SMOTE_RF.csv\n"
          ]
        }
      ],
      "source": [
        "generate_submission(best_est,df_test,x_test_features,'OUTPUT_SMOTE_RF.csv')"
      ]
    },
    {
      "cell_type": "code",
      "execution_count": null,
      "metadata": {
        "colab": {
          "base_uri": "https://localhost:8080/",
          "height": 17
        },
        "id": "C98zAv_lyNyX",
        "outputId": "792a11ca-f58b-4f11-806e-00c2447c3eed"
      },
      "outputs": [
        {
          "data": {
            "application/javascript": [
              "\n",
              "    async function download(id, filename, size) {\n",
              "      if (!google.colab.kernel.accessAllowed) {\n",
              "        return;\n",
              "      }\n",
              "      const div = document.createElement('div');\n",
              "      const label = document.createElement('label');\n",
              "      label.textContent = `Downloading \"${filename}\": `;\n",
              "      div.appendChild(label);\n",
              "      const progress = document.createElement('progress');\n",
              "      progress.max = size;\n",
              "      div.appendChild(progress);\n",
              "      document.body.appendChild(div);\n",
              "\n",
              "      const buffers = [];\n",
              "      let downloaded = 0;\n",
              "\n",
              "      const channel = await google.colab.kernel.comms.open(id);\n",
              "      // Send a message to notify the kernel that we're ready.\n",
              "      channel.send({})\n",
              "\n",
              "      for await (const message of channel.messages) {\n",
              "        // Send a message to notify the kernel that we're ready.\n",
              "        channel.send({})\n",
              "        if (message.buffers) {\n",
              "          for (const buffer of message.buffers) {\n",
              "            buffers.push(buffer);\n",
              "            downloaded += buffer.byteLength;\n",
              "            progress.value = downloaded;\n",
              "          }\n",
              "        }\n",
              "      }\n",
              "      const blob = new Blob(buffers, {type: 'application/binary'});\n",
              "      const a = document.createElement('a');\n",
              "      a.href = window.URL.createObjectURL(blob);\n",
              "      a.download = filename;\n",
              "      div.appendChild(a);\n",
              "      a.click();\n",
              "      div.remove();\n",
              "    }\n",
              "  "
            ],
            "text/plain": [
              "<IPython.core.display.Javascript object>"
            ]
          },
          "metadata": {},
          "output_type": "display_data"
        },
        {
          "data": {
            "application/javascript": [
              "download(\"download_1091edec-101f-414d-bc5b-d482cf3f855e\", \"OUTPUT_SMOTE_RF.csv\", 148011)"
            ],
            "text/plain": [
              "<IPython.core.display.Javascript object>"
            ]
          },
          "metadata": {},
          "output_type": "display_data"
        }
      ],
      "source": [
        "from google.colab import files\n",
        "files.download('OUTPUT_SMOTE_RF.csv') "
      ]
    },
    {
      "cell_type": "markdown",
      "metadata": {
        "id": "KFPt0yGvjSbo"
      },
      "source": [
        "# Handling Unbalanced Dataset ( k-Means SMOTE)"
      ]
    },
    {
      "cell_type": "markdown",
      "metadata": {
        "id": "vZ_gheM-x_uU"
      },
      "source": [
        "**SMOTE**"
      ]
    },
    {
      "cell_type": "code",
      "execution_count": null,
      "metadata": {
        "id": "kkcFc7D4jY-1"
      },
      "outputs": [],
      "source": [
        "from imblearn.over_sampling import SMOTE"
      ]
    },
    {
      "cell_type": "code",
      "execution_count": null,
      "metadata": {
        "colab": {
          "base_uri": "https://localhost:8080/"
        },
        "id": "q19i0-NpjZJf",
        "outputId": "dcfb02e9-5471-41bb-b5dc-fbe4c98f1ca5"
      },
      "outputs": [
        {
          "name": "stdout",
          "output_type": "stream",
          "text": [
            "<bound method IndexOpsMixin.value_counts of 0        0\n",
            "1        0\n",
            "2        0\n",
            "3        0\n",
            "4        0\n",
            "        ..\n",
            "66951    1\n",
            "66952    1\n",
            "66953    1\n",
            "66954    1\n",
            "66955    1\n",
            "Name: credit_card_default, Length: 66956, dtype: int64>\n",
            "<bound method IndexOpsMixin.value_counts of 0        0\n",
            "1        0\n",
            "2        0\n",
            "3        0\n",
            "4        0\n",
            "        ..\n",
            "83657    1\n",
            "83658    1\n",
            "83659    1\n",
            "83660    1\n",
            "83661    1\n",
            "Name: credit_card_default, Length: 83662, dtype: int64>\n"
          ]
        }
      ],
      "source": [
        "smote_ = SMOTE(random_state = 42)\n",
        "x_train_v2, y_train_v2 = smote_.fit_resample(x_train,y_train)\n",
        "print(y_train_v2.value_counts)\n",
        "x_train_v3, y_train_v3 = smote_.fit_resample(x_train_features,y_train_labels)\n",
        "print(y_train_v3.value_counts)"
      ]
    },
    {
      "cell_type": "code",
      "execution_count": null,
      "metadata": {
        "colab": {
          "base_uri": "https://localhost:8080/"
        },
        "id": "sOr7HOaJy8q2",
        "outputId": "1f0e91e8-9778-4fb7-e26a-8652f5265b5d"
      },
      "outputs": [
        {
          "name": "stdout",
          "output_type": "stream",
          "text": [
            "Accuracy =  97.2765209751812\n",
            "Classification Report\n",
            "              precision    recall  f1-score   support\n",
            "\n",
            "           0       0.99      0.99      0.99      8353\n",
            "           1       0.84      0.84      0.84       753\n",
            "\n",
            "    accuracy                           0.97      9106\n",
            "   macro avg       0.91      0.91      0.91      9106\n",
            "weighted avg       0.97      0.97      0.97      9106\n",
            "\n"
          ]
        }
      ],
      "source": [
        "model_rf_v1 = random_forest(x_train_v2,y_train_v2,2000)\n",
        "generate_predictions(model_rf_v1,x_test,y_test)"
      ]
    },
    {
      "cell_type": "code",
      "execution_count": null,
      "metadata": {
        "id": "yNHRL-5kz_As"
      },
      "outputs": [],
      "source": [
        "model_rf_v2 = random_forest(x_train_v3,y_train_v3,2000)"
      ]
    },
    {
      "cell_type": "code",
      "execution_count": null,
      "metadata": {
        "colab": {
          "base_uri": "https://localhost:8080/"
        },
        "id": "LHZmsh_e0GYm",
        "outputId": "e868109b-d229-4449-fcc9-e8eb9c512bc9"
      },
      "outputs": [
        {
          "name": "stdout",
          "output_type": "stream",
          "text": [
            "File Saved ---->>>  test_smote_1.csv\n"
          ]
        }
      ],
      "source": [
        "generate_submission(model_rf_v2,df_test,x_test_features,'test_smote_1.csv')"
      ]
    },
    {
      "cell_type": "code",
      "execution_count": null,
      "metadata": {
        "id": "dD2C5RiA0Ghr"
      },
      "outputs": [],
      "source": [
        ""
      ]
    },
    {
      "cell_type": "markdown",
      "metadata": {
        "id": "mPi_4HEai5FJ"
      },
      "source": [
        "**k-Means SMOTE**"
      ]
    },
    {
      "cell_type": "code",
      "execution_count": null,
      "metadata": {
        "id": "U7JdAfeX0Gqj"
      },
      "outputs": [],
      "source": [
        "from kmeans_smote import KMeansSMOTE"
      ]
    },
    {
      "cell_type": "code",
      "execution_count": null,
      "metadata": {
        "colab": {
          "base_uri": "https://localhost:8080/"
        },
        "id": "RMpInK9ui-fd",
        "outputId": "48cfe23c-87fb-4f6d-fdda-4b76b117d335"
      },
      "outputs": [
        {
          "name": "stderr",
          "output_type": "stream",
          "text": [
            "/usr/local/lib/python3.7/dist-packages/kmeans_smote.py:322: UserWarning: No minority clusters found for class 1. Performing regular SMOTE. Try changing the number of clusters.\n",
            "  warnings.warn('No minority clusters found for class {}. Performing regular SMOTE. Try changing the number of clusters.'.format(minority_class_label))\n",
            "/usr/local/lib/python3.7/dist-packages/kmeans_smote.py:322: UserWarning: No minority clusters found for class 1. Performing regular SMOTE. Try changing the number of clusters.\n",
            "  warnings.warn('No minority clusters found for class {}. Performing regular SMOTE. Try changing the number of clusters.'.format(minority_class_label))\n"
          ]
        }
      ],
      "source": [
        "kmeans_smote = KMeansSMOTE(\n",
        "    kmeans_args={\n",
        "        'n_clusters': 100\n",
        "    },\n",
        "    smote_args={\n",
        "        'k_neighbors': 10\n",
        "    }\n",
        ")\n",
        "x_train_v2, y_train_v2 = kmeans_smote.fit_resample(x_train,y_train)\n",
        "x_train_v3, y_train_v3 = kmeans_smote.fit_resample(x_train_features,y_train_labels)"
      ]
    },
    {
      "cell_type": "code",
      "execution_count": null,
      "metadata": {
        "colab": {
          "base_uri": "https://localhost:8080/"
        },
        "id": "ydGZMLFHi-iV",
        "outputId": "6cc8d475-1a77-41b2-935d-a7062630c2d6"
      },
      "outputs": [
        {
          "name": "stdout",
          "output_type": "stream",
          "text": [
            "Accuracy =  97.86953656929497\n",
            "Classification Report\n",
            "              precision    recall  f1-score   support\n",
            "\n",
            "           0       0.98      1.00      0.99      8345\n",
            "           1       0.95      0.78      0.86       761\n",
            "\n",
            "   micro avg       0.98      0.98      0.98      9106\n",
            "   macro avg       0.97      0.89      0.92      9106\n",
            "weighted avg       0.98      0.98      0.98      9106\n",
            "\n"
          ]
        }
      ],
      "source": [
        "model_rf_v1 = random_forest(x_train_v2,y_train_v2,2000)\n",
        "generate_predictions(model_rf_v1,x_test,y_test)"
      ]
    },
    {
      "cell_type": "code",
      "execution_count": null,
      "metadata": {
        "id": "c4Z1hic-i-lU"
      },
      "outputs": [],
      "source": [
        "model_rf_v2 = random_forest(x_train_v3,y_train_v3,2000)"
      ]
    },
    {
      "cell_type": "code",
      "execution_count": null,
      "metadata": {
        "colab": {
          "base_uri": "https://localhost:8080/"
        },
        "id": "5db-K_iqsX2K",
        "outputId": "9077cc0e-dd9a-415e-d2a8-59693ce5a4a3"
      },
      "outputs": [
        {
          "name": "stdout",
          "output_type": "stream",
          "text": [
            "File Saved ---->>>  test_smote_knn.csv\n"
          ]
        }
      ],
      "source": [
        "generate_submission(model_rf_v2,df_test,x_test_features,'test_smote_knn.csv')"
      ]
    },
    {
      "cell_type": "code",
      "execution_count": null,
      "metadata": {
        "id": "ZcjmF_xcsX4p"
      },
      "outputs": [],
      "source": [
        ""
      ]
    },
    {
      "cell_type": "code",
      "execution_count": null,
      "metadata": {
        "id": "gVFkkgzW1vve"
      },
      "outputs": [],
      "source": [
        "from xgboost import XGBClassifier"
      ]
    },
    {
      "cell_type": "code",
      "execution_count": null,
      "metadata": {
        "id": "s5rNBQNQ1v2B"
      },
      "outputs": [],
      "source": [
        "xgb = XGBClassifier(n_estimators=4000, learning_rate=0.05)"
      ]
    },
    {
      "cell_type": "code",
      "execution_count": null,
      "metadata": {
        "id": "JN9GL3kk1v5y"
      },
      "outputs": [],
      "source": [
        "model = xgb.fit(x_train,y_train)"
      ]
    },
    {
      "cell_type": "code",
      "execution_count": null,
      "metadata": {
        "colab": {
          "base_uri": "https://localhost:8080/"
        },
        "id": "N4IlHDD81v8c",
        "outputId": "45e69970-7e57-415b-ec1d-35c9c70be93d"
      },
      "outputs": [
        {
          "name": "stdout",
          "output_type": "stream",
          "text": [
            "Accuracy =  97.68284647485174\n",
            "Classification Report\n",
            "              precision    recall  f1-score   support\n",
            "\n",
            "           0       0.98      0.99      0.99      8345\n",
            "           1       0.91      0.80      0.85       761\n",
            "\n",
            "   micro avg       0.98      0.98      0.98      9106\n",
            "   macro avg       0.95      0.90      0.92      9106\n",
            "weighted avg       0.98      0.98      0.98      9106\n",
            "\n"
          ]
        }
      ],
      "source": [
        "generate_predictions(model,x_test,y_test)"
      ]
    },
    {
      "cell_type": "code",
      "execution_count": null,
      "metadata": {
        "id": "AG0FXnB31v_J"
      },
      "outputs": [],
      "source": [
        "model_xgb = xgb.fit(x_train_features,y_train_labels)"
      ]
    },
    {
      "cell_type": "code",
      "execution_count": null,
      "metadata": {
        "colab": {
          "base_uri": "https://localhost:8080/"
        },
        "id": "XMcquVtt4HB4",
        "outputId": "82814f38-871a-43d4-ccac-cb6c3145e414"
      },
      "outputs": [
        {
          "name": "stdout",
          "output_type": "stream",
          "text": [
            "File Saved ---->>>  test_smote_xgb2.csv\n"
          ]
        }
      ],
      "source": [
        "generate_submission(model_xgb,df_test,x_test_features,'test_smote_xgb2.csv')"
      ]
    },
    {
      "cell_type": "code",
      "execution_count": null,
      "metadata": {
        "id": "kajfugc44HDC"
      },
      "outputs": [],
      "source": [
        ""
      ]
    },
    {
      "cell_type": "code",
      "execution_count": null,
      "metadata": {
        "id": "QCI9Nex44HK4"
      },
      "outputs": [],
      "source": [
        ""
      ]
    },
    {
      "cell_type": "markdown",
      "metadata": {
        "id": "VOEayrjTRZQ1"
      },
      "source": [
        "# TEST #4 : All 4 Classifiers"
      ]
    },
    {
      "cell_type": "code",
      "execution_count": null,
      "metadata": {
        "id": "TzlLzKw9ReTa"
      },
      "outputs": [],
      "source": [
        "# Let's implement simple classifiers\n",
        "\n",
        "classifiers = {\n",
        "    \"LogisiticRegression\": LogisticRegression(),\n",
        "    \"KNearest\": KNeighborsClassifier(),\n",
        "    \"Support Vector Classifier\": SVC(),\n",
        "    \"DecisionTreeClassifier\": DecisionTreeClassifier()\n",
        "}"
      ]
    },
    {
      "cell_type": "code",
      "execution_count": null,
      "metadata": {
        "id": "5lo8-_RpReZ2"
      },
      "outputs": [],
      "source": [
        "# Wow our scores are getting even high scores even when applying cross validation.\n",
        "from sklearn.model_selection import cross_val_score\n",
        "\n",
        "\n",
        "for key, classifier in classifiers.items():\n",
        "    classifier.fit(X_train, y_train)\n",
        "    training_score = cross_val_score(classifier, X_train, y_train, cv=5)\n",
        "    print(\"Classifiers: \", classifier.__class__.__name__, \"Has a training score of\", round(training_score.mean(), 2) * 100, \"% accuracy score\")"
      ]
    },
    {
      "cell_type": "code",
      "execution_count": null,
      "metadata": {
        "id": "Tij3JY-IRegJ"
      },
      "outputs": [],
      "source": [
        ""
      ]
    },
    {
      "cell_type": "code",
      "execution_count": null,
      "metadata": {
        "id": "P7TygzzkRduV"
      },
      "outputs": [],
      "source": [
        ""
      ]
    }
  ],
  "metadata": {
    "colab": {
      "collapsed_sections": [
        "pY-1Wd0XW51w"
      ],
      "name": "Credit Card Default Risk Prediction.ipynb",
      "toc_visible": true,
      "provenance": [],
      "authorship_tag": "ABX9TyM9rnmYAV41nOpq/KSx41Y2",
      "include_colab_link": true
    },
    "kernelspec": {
      "display_name": "Python 3",
      "name": "python3"
    },
    "language_info": {
      "name": "python"
    }
  },
  "nbformat": 4,
  "nbformat_minor": 0
}